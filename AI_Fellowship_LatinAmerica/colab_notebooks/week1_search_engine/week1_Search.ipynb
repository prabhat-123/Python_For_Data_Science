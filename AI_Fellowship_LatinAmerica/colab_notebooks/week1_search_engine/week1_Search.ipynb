{
  "nbformat": 4,
  "nbformat_minor": 0,
  "metadata": {
    "colab": {
      "provenance": [],
      "gpuType": "T4"
    },
    "kernelspec": {
      "name": "python3",
      "display_name": "Python 3"
    },
    "language_info": {
      "name": "python"
    },
    "accelerator": "GPU"
  },
  "cells": [
    {
      "cell_type": "markdown",
      "source": [
        "## Search\n",
        "- **Definition**: Search refers to the process of systematically exploring a space of possibilities to find a specific solution or goal state.\n",
        "\n",
        "- **Importance**:\n",
        "  - **Problem Solving**: Search algorithms are fundamental to problem-solving in AI. They help find optimal or near-optimal solutions to complex problems.\n",
        "  - **Optimization**: Essential for model parameter tuning.\n",
        "  - **Game Playing**: In game AI, search algorithms like Minimax and Alpha-Beta Pruning are used to make strategic decisions in games like chess and Go.\n",
        "  - **Robotics**: Path planning and navigation for robots involve search algorithms to find safe and efficient routes.\n",
        "  \n",
        "- **Applications**:\n",
        "  - Pathfinding in robotics.\n",
        "  - Search algorithms can help recommend products, content, or services to users by searching for items that match their preferences.\n",
        "  - Model selection and hyperparameter tuning.\n",
        "  \n",
        "- **Challenges**: Efficiency depends on search space and problem complexity.\n",
        "  \n",
        "\n"
      ],
      "metadata": {
        "id": "1MAnhr_vv852"
      }
    },
    {
      "cell_type": "markdown",
      "source": [
        "# Linear Search\n",
        "\n",
        "**Description:** Linear Search, also known as sequential search, is a simple search algorithm that checks every element in a list or array until the target element is found or the entire list has been traversed.\n",
        "\n",
        "**Algorithm:**\n",
        "\n",
        "1. Start at the beginning of the list.\n",
        "2. Compare the target element with the current element.\n",
        "3. If they match, return the index of the current element.\n",
        "4. If not, move to the next element and repeat the comparison.\n",
        "5. Continue this process until the target element is found or the end of the list is reached.\n",
        "\n",
        "**Key Points:**\n",
        "\n",
        "- Linear search is straightforward but less efficient for large datasets.\n",
        "- It has a time complexity of O(n) where n is the number of elements in the list.\n"
      ],
      "metadata": {
        "id": "uqcgCgSw_TEQ"
      }
    },
    {
      "cell_type": "code",
      "execution_count": null,
      "metadata": {
        "id": "B-DCgocy-g1X"
      },
      "outputs": [],
      "source": [
        "## write your code here\n",
        "\n",
        "def search(list1, n):\n",
        "  for i in range(len(list1)):\n",
        "    if list1[i] == n:\n",
        "      return i\n",
        "  return False"
      ]
    },
    {
      "cell_type": "code",
      "source": [
        "list1 = [2,5,3,6,21,9,11]\n",
        "n = 6"
      ],
      "metadata": {
        "id": "UhtFZJ0Q-kWX"
      },
      "execution_count": null,
      "outputs": []
    },
    {
      "cell_type": "code",
      "source": [
        "if search(list1, n):\n",
        "  print(\"Found at index\",search(list1, n))\n",
        "else:\n",
        "  print(\"Not Found\")"
      ],
      "metadata": {
        "colab": {
          "base_uri": "https://localhost:8080/"
        },
        "id": "f2xhD8eW-nbj",
        "outputId": "35d3ce7a-7a11-419f-afb0-92fd2a8d7062"
      },
      "execution_count": null,
      "outputs": [
        {
          "output_type": "stream",
          "name": "stdout",
          "text": [
            "Found at index 3\n"
          ]
        }
      ]
    },
    {
      "cell_type": "markdown",
      "source": [
        "# Binary Search\n",
        "\n",
        "**Description:** Binary Search is a more efficient search algorithm that works on sorted lists or arrays by repeatedly dividing the search interval in half. It quickly identifies if the target element is in the lower or upper half of the remaining data.\n",
        "\n",
        "**Algorithm:**\n",
        "\n",
        "1. Start with the entire sorted list.\n",
        "2. Find the middle element.\n",
        "3. Compare the target element with the middle element.\n",
        "4. If they match, return the index of the middle element.\n",
        "5. If the target is less than the middle element, search in the lower half; otherwise, search in the upper half.\n",
        "6. Repeat this process until the target element is found or the search interval becomes empty.\n",
        "\n",
        "**Key Points:**\n",
        "\n",
        "- Binary search is highly efficient for large sorted datasets.\n",
        "- It has a time complexity of O(log n) where n is the number of elements in the list.\n",
        "- It's essential that the list is sorted for binary search to work correctly.\n"
      ],
      "metadata": {
        "id": "VggWAaGg_Vyq"
      }
    },
    {
      "cell_type": "code",
      "source": [
        "def binary_search(list1, n):\n",
        "  l = 0\n",
        "  u = len(list1) - 1\n",
        "\n",
        "  while l <= u:\n",
        "    m = (l+u)//2\n",
        "    if list1[m] == n:\n",
        "      return True\n",
        "    else:\n",
        "      if n < list1[m]:\n",
        "        u = m\n",
        "      else:\n",
        "        l = m+1\n",
        "  return False\n"
      ],
      "metadata": {
        "id": "9af9xSX4-ulV"
      },
      "execution_count": null,
      "outputs": []
    },
    {
      "cell_type": "code",
      "source": [
        "list1 = [2,5,3,6,21,9,11]\n",
        "list1 = sorted(list1)\n",
        "print(list1)\n",
        "n = 2"
      ],
      "metadata": {
        "colab": {
          "base_uri": "https://localhost:8080/"
        },
        "id": "gSK_YvuCdfXO",
        "outputId": "13fff6df-cf36-4603-81c4-94cac847a276"
      },
      "execution_count": null,
      "outputs": [
        {
          "output_type": "stream",
          "name": "stdout",
          "text": [
            "[2, 3, 5, 6, 9, 11, 21]\n"
          ]
        }
      ]
    },
    {
      "cell_type": "code",
      "source": [
        "if binary_search(list1, n):\n",
        "  print(\"Found\")\n",
        "else:\n",
        "  print(\"Not Found\")"
      ],
      "metadata": {
        "colab": {
          "base_uri": "https://localhost:8080/"
        },
        "id": "a6bnWf4sdhKA",
        "outputId": "1e7a2831-4214-43ce-d457-4b172ebe1831"
      },
      "execution_count": null,
      "outputs": [
        {
          "output_type": "stream",
          "name": "stdout",
          "text": [
            "Found\n"
          ]
        }
      ]
    },
    {
      "cell_type": "markdown",
      "source": [
        "# Breadth First Search (BFS)\n",
        "\n",
        "**Description:** Breadth First Search is a graph traversal algorithm that explores all the vertices of a graph or tree level by level. It starts from the root (or any selected node) and explores all its neighbors before moving on to their respective neighbors.\n",
        "\n",
        "**Algorithm:**\n",
        "\n",
        "1. Start at the initial node (usually the root in a tree or an arbitrary node in a graph).\n",
        "2. Add the initial node to the queue.\n",
        "3. While the queue is not empty:\n",
        "   - Dequeue a node from the front of the queue.\n",
        "   - Process the dequeued node (e.g., print its value or perform some operation).\n",
        "   - Enqueue all unvisited neighbors of the dequeued node.\n",
        "4. Repeat steps 3 until the queue is empty or a specific condition is met.\n",
        "\n",
        "**Key Points:**\n",
        "\n",
        "- It uses a queue data structure to keep track of nodes to be visited.\n",
        "- BFS guarantees that it visits all nodes at depth 'd' before moving to nodes at depth 'd+1'.\n"
      ],
      "metadata": {
        "id": "vyUCk9hgBBOs"
      }
    },
    {
      "cell_type": "code",
      "source": [
        "graph = {\"A\": [\"B\", \"C\", \"D\"],\n",
        "         \"B\": [\"E\", \"F\"],\n",
        "         \"C\": [\"G\", \"H\"],\n",
        "         \"D\": [\"H\", \"I\"],\n",
        "         \"E\": [],\n",
        "         \"F\": [],\n",
        "         \"G\": [],\n",
        "         \"H\": [],\n",
        "         \"I\": []\n",
        "}\n",
        "print(graph)"
      ],
      "metadata": {
        "colab": {
          "base_uri": "https://localhost:8080/"
        },
        "id": "5Vihm_Jj-A-p",
        "outputId": "cc5e3f19-21a5-4271-ae47-96147f1790a4"
      },
      "execution_count": null,
      "outputs": [
        {
          "output_type": "stream",
          "name": "stdout",
          "text": [
            "{'A': ['B', 'C', 'D'], 'B': ['E', 'F'], 'C': ['G', 'H'], 'D': ['H', 'I'], 'E': [], 'F': [], 'G': [], 'H': [], 'I': []}\n"
          ]
        }
      ]
    },
    {
      "cell_type": "code",
      "source": [
        "visited = []\n",
        "queue = []"
      ],
      "metadata": {
        "id": "SJG7qKks-BBZ"
      },
      "execution_count": null,
      "outputs": []
    },
    {
      "cell_type": "code",
      "source": [
        "def breadth_first_search(graph, visited, node):\n",
        "  visited.append(node)\n",
        "  queue.append(node)\n",
        "\n",
        "  while queue:\n",
        "    print(visited)\n",
        "    print(queue)\n",
        "    m = queue.pop()\n",
        "\n",
        "    for neighbour in graph[m]:\n",
        "      if neighbour not in visited:\n",
        "        visited.append(neighbour)\n",
        "        queue.append(neighbour)\n",
        "\n"
      ],
      "metadata": {
        "id": "WiQcrg3s-BEh"
      },
      "execution_count": null,
      "outputs": []
    },
    {
      "cell_type": "code",
      "source": [
        "breadth_first_search(graph, visited, node=\"A\")"
      ],
      "metadata": {
        "colab": {
          "base_uri": "https://localhost:8080/"
        },
        "id": "znxvAr5B-BHT",
        "outputId": "f67d3b01-ad29-4750-93dd-d80698f3204b"
      },
      "execution_count": null,
      "outputs": [
        {
          "output_type": "stream",
          "name": "stdout",
          "text": [
            "['A']\n",
            "['A']\n",
            "['A', 'B', 'C', 'D']\n",
            "['B', 'C', 'D']\n",
            "['A', 'B', 'C', 'D', 'H', 'I']\n",
            "['B', 'C', 'H', 'I']\n",
            "['A', 'B', 'C', 'D', 'H', 'I']\n",
            "['B', 'C', 'H']\n",
            "['A', 'B', 'C', 'D', 'H', 'I']\n",
            "['B', 'C']\n",
            "['A', 'B', 'C', 'D', 'H', 'I', 'G']\n",
            "['B', 'G']\n",
            "['A', 'B', 'C', 'D', 'H', 'I', 'G']\n",
            "['B']\n",
            "['A', 'B', 'C', 'D', 'H', 'I', 'G', 'E', 'F']\n",
            "['E', 'F']\n",
            "['A', 'B', 'C', 'D', 'H', 'I', 'G', 'E', 'F']\n",
            "['E']\n"
          ]
        }
      ]
    },
    {
      "cell_type": "markdown",
      "source": [
        "# Depth First Search (DFS)\n",
        "\n",
        "**Description:** Depth First Search is a graph traversal algorithm that explores as far as possible along a branch before backtracking. It is often implemented using recursion or an explicit stack.\n",
        "\n",
        "**Algorithm:**\n",
        "\n",
        "1. Start at the initial node (usually the root in a tree or an arbitrary node in a graph).\n",
        "2. Process the current node (e.g., print its value or perform some operation).\n",
        "3. Recursively explore all unvisited neighbors of the current node.\n",
        "4. Repeat step 3 until all nodes are visited or a specific condition is met.\n",
        "5. Backtrack if necessary to explore other unvisited branches.\n",
        "\n",
        "**Key Points:**\n",
        "\n",
        "- DFS can be implemented using recursion or an explicit stack data structure.\n",
        "- It may not necessarily find the shortest path in a graph.\n",
        "- DFS is often used for topological sorting, and pathfinding in mazes.\n",
        "\n"
      ],
      "metadata": {
        "id": "C6A5CJbqBHL7"
      }
    },
    {
      "cell_type": "code",
      "source": [
        "graph = {\"A\": [\"B\", \"C\", \"D\"],\n",
        "         \"B\": [\"E\", \"F\"],\n",
        "         \"C\": [\"G\", \"H\"],\n",
        "         \"D\": [\"H\", \"I\"],\n",
        "         \"E\": [],\n",
        "         \"F\": [],\n",
        "         \"G\": [],\n",
        "         \"H\": [],\n",
        "         \"I\": []\n",
        "}\n",
        "print(graph)"
      ],
      "metadata": {
        "colab": {
          "base_uri": "https://localhost:8080/"
        },
        "id": "CCATH-o-BGRk",
        "outputId": "1bc850ea-12bd-4384-e23d-f458e1ddf4c6"
      },
      "execution_count": null,
      "outputs": [
        {
          "output_type": "stream",
          "name": "stdout",
          "text": [
            "{'A': ['B', 'C', 'D'], 'B': ['E', 'F'], 'C': ['G', 'H'], 'D': ['H', 'I'], 'E': [], 'F': [], 'G': [], 'H': [], 'I': []}\n"
          ]
        }
      ]
    },
    {
      "cell_type": "code",
      "source": [
        "visited = []\n",
        "stack = []"
      ],
      "metadata": {
        "id": "Y2dFx-9bBGpN"
      },
      "execution_count": null,
      "outputs": []
    },
    {
      "cell_type": "code",
      "source": [
        "def depth_first_search(graph, visited, node, stack):\n",
        "    visited.append(node)\n",
        "    stack.append(node)\n",
        "    while stack:\n",
        "        node = stack[-1]  # Peek the top of the stack\n",
        "        print(\"Visited node:\", visited)\n",
        "        print(\"Stack:\", stack)\n",
        "\n",
        "        unvisited_neighbors = [neighbor for neighbor in graph[node] if neighbor not in visited]\n",
        "        print(unvisited_neighbors)\n",
        "        if unvisited_neighbors:\n",
        "            neighbor = unvisited_neighbors[0]  # Pick the first unvisited neighbor\n",
        "            visited.append(neighbor)\n",
        "            stack.append(neighbor)\n",
        "        else:\n",
        "            stack.pop()  # Remove the current node when backtracking\n",
        "\n",
        "\n"
      ],
      "metadata": {
        "id": "V7pGEpJYBMf6"
      },
      "execution_count": null,
      "outputs": []
    },
    {
      "cell_type": "code",
      "source": [
        "depth_first_search(graph, visited, node=\"A\", stack)"
      ],
      "metadata": {
        "colab": {
          "base_uri": "https://localhost:8080/"
        },
        "id": "qMAGxYz0BMkH",
        "outputId": "e0ea3e4b-6ce1-4c97-f424-2fa5a1c49d27"
      },
      "execution_count": null,
      "outputs": [
        {
          "output_type": "stream",
          "name": "stdout",
          "text": [
            "Visited nodes are ['A']\n",
            "Nodes in stack are ['A']\n",
            "Visited nodes are ['A', 'B']\n",
            "Nodes in stack are ['B']\n",
            "Visited nodes are ['A', 'B', 'E']\n",
            "Nodes in stack are ['E']\n",
            "Visited nodes are ['A', 'B', 'E', 'F']\n",
            "Nodes in stack are ['F']\n",
            "Visited nodes are ['A', 'B', 'E', 'F', 'C']\n",
            "Nodes in stack are ['C']\n",
            "Visited nodes are ['A', 'B', 'E', 'F', 'C', 'G']\n",
            "Nodes in stack are ['G']\n",
            "Visited nodes are ['A', 'B', 'E', 'F', 'C', 'G', 'H']\n",
            "Nodes in stack are ['H']\n",
            "Visited nodes are ['A', 'B', 'E', 'F', 'C', 'G', 'H', 'D']\n",
            "Nodes in stack are ['D']\n",
            "Visited nodes are ['A', 'B', 'E', 'F', 'C', 'G', 'H', 'D', 'I']\n",
            "Nodes in stack are ['I']\n"
          ]
        }
      ]
    },
    {
      "cell_type": "markdown",
      "source": [
        "# Deque in Python\n",
        "\n",
        "A **deque** (short for double-ended queue) is a versatile data structure in Python that allows you to efficiently add and remove elements from both ends of the queue. It is provided by the `collections` module.\n",
        "\n",
        "## Usage as a Queue\n",
        "\n",
        "You can use a `deque` as a general-purpose queue by following these operations:\n",
        "\n",
        "- **Enqueue:** To add elements to the queue, use the `append()` method. This adds elements to the right (back) of the queue.\n",
        "\n",
        "- **Dequeue:** To remove elements from the queue, use the `popleft()` method. This removes elements from the left (front) of the queue.\n",
        "\n",
        "Using a `deque` as a queue is helpful when you need a First-In-First-Out (FIFO) data structure for tasks like processing items in the order they were added.\n",
        "\n",
        "## Usage as a Stack\n",
        "\n",
        "Alternatively, you can use a `deque` as a stack with these operations:\n",
        "\n",
        "- **Push:** To add elements onto the stack, use the `append()` method. This adds elements to the right (top) of the stack.\n",
        "\n",
        "- **Pop:** To remove elements from the stack, use the `pop()` method. This removes elements from the right (top) of the stack.\n",
        "\n",
        "Using a `deque` as a stack is useful when you need a Last-In-First-Out (LIFO) data structure, which is common in many programming scenarios.\n",
        "\n"
      ],
      "metadata": {
        "id": "SNCam2OA1tJB"
      }
    },
    {
      "cell_type": "code",
      "source": [
        "from collections import deque"
      ],
      "metadata": {
        "id": "HAbOvEvTBGr4"
      },
      "execution_count": null,
      "outputs": []
    },
    {
      "cell_type": "markdown",
      "source": [
        "# 3 Priests and 3 Ghosts Boat Crossing Puzzle\n",
        "\n",
        "## Problem Statement\n",
        "\n",
        "You are on one side of a river, and you need to transport 3 priests and 3 ghosts to the other side of the river using a small boat. However, there are certain rules and constraints you must follow:\n",
        "\n",
        "1. The boat can only carry a maximum of 2 passengers at a time.\n",
        "2. At no point on either side of the river should the number of ghosts exceed the number of priests. Otherwise, the ghosts will outnumber the priests, and it's considered unsafe.\n",
        "\n",
        "Your task is to find a series of boat trips that will safely transport all 3 priests and 3 ghosts from one side of the river to the other, adhering to the above rules and constraints.\n",
        "\n",
        "## Rules and Constraints\n",
        "\n",
        "- The boat can carry a maximum of 2 passengers at a time.\n",
        "- The number of ghosts on one side of the river should never exceed the number of priests on that side.\n",
        "\n",
        "## Objective\n",
        "\n",
        "The objective is to find a sequence of boat trips that will safely transport all 3 priests and 3 ghosts from one side of the river to the other while adhering to the rules and constraints.\n",
        "\n",
        "## Example\n",
        "\n",
        "Here is one possible solution:\n",
        "\n",
        "1. Take 2 priests to the other side. (Current state: 1 priest, 3 ghosts on the starting side)\n",
        "2. Return alone to the starting side. (Current state: 2 priests, 3 ghosts on the starting side)\n",
        "3. Take 2 ghosts to the other side. (Current state: 2 priests, 1 ghost on the starting side)\n",
        "4. Take 1 priest and 1 ghost back to the starting side. (Current state: 1 priest, 2 ghosts on the starting side)\n",
        "5. Take 2 priests to the other side. (Current state: 0 priests, 2 ghosts on the starting side)\n",
        "6. Return alone to the starting side. (Current state: 2 priests, 2 ghosts on the starting side)\n",
        "7. Take 2 ghosts to the other side. (Current state: 2 priests, 0 ghosts on the starting side)\n",
        "8. Take 1 priest and 1 ghost back to the starting side. (Current state: 1 priest, 1 ghost on the starting side)\n",
        "9. Take 2 priests to the other side. (Current state: 0 priests, 1 ghost on the starting side)\n",
        "10. Return alone to the starting side. (Current state: 2 priests, 1 ghost on the starting side)\n",
        "11. Take 2 ghosts to the other side. (Current state: 2 priests, 0 ghosts on the starting side)\n",
        "12. Return alone to the starting side. (Current state: 3 priests, 0 ghosts on the starting side)\n",
        "\n",
        "Now, all 3 priests and 3 ghosts have safely crossed the river.\n",
        "\n",
        "## Notes\n",
        "\n",
        "This puzzle is a classic example of a river-crossing puzzle, where you need to devise a strategy to transport a group of individuals across a river while respecting specific constraints. The objective is not only to find a solution but also to find the most efficient one, minimizing the number of boat trips.\n"
      ],
      "metadata": {
        "id": "uRKOnVkG3xjD"
      }
    },
    {
      "cell_type": "code",
      "source": [
        "# Define the initial and goal states\n",
        "initial_state = (3, 3, 1)  # (Priests on the left, Ghosts on the left, Boat location: 1 for left, 0 for right)\n",
        "goal_state = (0, 0, 0)"
      ],
      "metadata": {
        "id": "niyf0EqlRy8R"
      },
      "execution_count": null,
      "outputs": []
    },
    {
      "cell_type": "code",
      "source": [
        "# Define a function to check if a state is valid\n",
        "def is_valid(state):\n",
        "    left_priests, left_ghosts, boat_location = state\n",
        "    right_priests = 3 - left_priests\n",
        "    right_ghosts = 3 - left_ghosts\n",
        "\n",
        "    # Check if ghosts outnumber priests on either side\n",
        "    if (left_priests < left_ghosts and left_priests > 0) or (right_priests < right_ghosts and right_priests > 0):\n",
        "        return False\n",
        "\n",
        "    return True"
      ],
      "metadata": {
        "id": "YH16ELfOR_XM"
      },
      "execution_count": null,
      "outputs": []
    },
    {
      "cell_type": "code",
      "source": [
        "# Define a function to generate successor states\n",
        "def successors(state):\n",
        "    left_priests, left_ghosts, boat_location = state\n",
        "    possible_moves = []\n",
        "\n",
        "    # Generate all possible combinations of passengers on the boat (0 to 2 people)\n",
        "    for p in range(3):\n",
        "        for g in range(3):\n",
        "            if p + g > 0 and p + g <= 2:\n",
        "                # Calculate the new state based on the boat's movement\n",
        "                if boat_location == 1:  # Boat is on the left\n",
        "                    new_state = (left_priests - p, left_ghosts - g, 0)\n",
        "                else:  # Boat is on the right\n",
        "                    new_state = (left_priests + p, left_ghosts + g, 1)\n",
        "                if is_valid(new_state):\n",
        "                    possible_moves.append(new_state)\n",
        "    return possible_moves\n"
      ],
      "metadata": {
        "id": "N-9ymULRSDAY"
      },
      "execution_count": null,
      "outputs": []
    },
    {
      "cell_type": "code",
      "source": [
        "# Implement BFS to solve the puzzle\n",
        "def solve_puzzle():\n",
        "    queue = deque([(initial_state, [])])\n",
        "\n",
        "    while queue:\n",
        "        current_state, path = queue.popleft()\n",
        "        if current_state == goal_state:\n",
        "            return path\n",
        "\n",
        "        for next_state in successors(current_state):\n",
        "            if next_state not in path:\n",
        "                queue.append((next_state, path + [next_state]))\n",
        "\n",
        "    return queue\n"
      ],
      "metadata": {
        "id": "a_CDq3nhmvxj"
      },
      "execution_count": null,
      "outputs": []
    },
    {
      "cell_type": "code",
      "source": [
        "# Solve the puzzle and print the solution path\n",
        "solution_path = solve_puzzle()\n",
        "if solution_path:\n",
        "    for i, state in enumerate(solution_path):\n",
        "        print(f\"Step {i + 1}: Priests-{state[0]}, Ghosts-{state[1]}, Boat-{state[2]}\")\n",
        "else:\n",
        "    print(\"No solution found.\")\n"
      ],
      "metadata": {
        "colab": {
          "base_uri": "https://localhost:8080/"
        },
        "id": "sB1iKwy-o3qa",
        "outputId": "d2ff4a4f-7319-469c-acd0-1ac430bab37a"
      },
      "execution_count": null,
      "outputs": [
        {
          "output_type": "stream",
          "name": "stdout",
          "text": [
            "Step 1: Priests-3, Ghosts-1, Boat-0\n",
            "Step 2: Priests-3, Ghosts-2, Boat-1\n",
            "Step 3: Priests-3, Ghosts-0, Boat-0\n",
            "Step 4: Priests-3, Ghosts-1, Boat-1\n",
            "Step 5: Priests-1, Ghosts-1, Boat-0\n",
            "Step 6: Priests-2, Ghosts-2, Boat-1\n",
            "Step 7: Priests-0, Ghosts-2, Boat-0\n",
            "Step 8: Priests-0, Ghosts-3, Boat-1\n",
            "Step 9: Priests-0, Ghosts-1, Boat-0\n",
            "Step 10: Priests-0, Ghosts-2, Boat-1\n",
            "Step 11: Priests-0, Ghosts-0, Boat-0\n"
          ]
        }
      ]
    },
    {
      "cell_type": "code",
      "source": [
        "print(solution_path)"
      ],
      "metadata": {
        "colab": {
          "base_uri": "https://localhost:8080/"
        },
        "id": "g590yCJKQQm0",
        "outputId": "ab21a163-ed29-4e2d-a50c-82a724c68ba4"
      },
      "execution_count": null,
      "outputs": [
        {
          "output_type": "stream",
          "name": "stdout",
          "text": [
            "[(3, 1, 0), (3, 2, 1), (3, 0, 0), (3, 1, 1), (1, 1, 0), (2, 2, 1), (0, 2, 0), (0, 3, 1), (0, 1, 0), (0, 2, 1), (0, 0, 0)]\n"
          ]
        }
      ]
    },
    {
      "cell_type": "code",
      "source": [],
      "metadata": {
        "id": "59vOmrtsLnPj"
      },
      "execution_count": null,
      "outputs": []
    },
    {
      "cell_type": "code",
      "source": [],
      "metadata": {
        "id": "5Ar-C2gbJZQc"
      },
      "execution_count": null,
      "outputs": []
    },
    {
      "cell_type": "code",
      "source": [],
      "metadata": {
        "id": "TPi2LV4x2k4b"
      },
      "execution_count": null,
      "outputs": []
    }
  ]
}