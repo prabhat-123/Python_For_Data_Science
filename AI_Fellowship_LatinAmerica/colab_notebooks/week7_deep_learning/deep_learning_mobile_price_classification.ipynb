{
  "nbformat": 4,
  "nbformat_minor": 0,
  "metadata": {
    "colab": {
      "provenance": []
    },
    "kernelspec": {
      "name": "python3",
      "display_name": "Python 3"
    },
    "language_info": {
      "name": "python"
    }
  },
  "cells": [
    {
      "cell_type": "markdown",
      "source": [
        "# Mobile Price Classification Problem Statement\n",
        "\n",
        "## Background\n",
        "In the rapidly evolving mobile phone market, consumers are presented with a plethora of options, each varying in features and price. As a result, there is a growing need to develop accurate and efficient methods for classifying mobile phones into price categories based on their specifications.\n",
        "\n",
        "## Problem Statement\n",
        "The objective of this project is to create an Artificial Neural Network (ANN) algorithm for mobile price classification. The dataset provided includes various features such as battery power, presence of Bluetooth, clock speed, dual SIM capability, front camera resolution (fc), 4G support, internal memory, mobile weight, number of processor cores, and more. These features are crucial in determining the overall value and performance of a mobile device.\n",
        "\n",
        "## Task\n",
        "The task at hand is to design and implement an ANN model that can predict the price range of a mobile phone based on its features. The price range is categorized into classes such as 'low-cost,' 'mid-range,' 'high-end,' and 'premium.' The model should learn patterns and relationships from the given dataset to accurately classify mobile phones into these predefined price categories.\n",
        "\n",
        "## Dataset\n",
        "The dataset consists of a set of observations, each representing a mobile phone, and includes various numerical and categorical features. The target variable is 'price_range,' representing the price category to which a mobile phone belongs.\n",
        "\n",
        "## Evaluation\n",
        "The performance of the ANN model will be assessed using metrics such as accuracy, precision, recall, and F1 score. The goal is to achieve a model that generalizes well to new, unseen data and provides reliable predictions for real-world applications.\n",
        "\n",
        "## Implementation Steps\n",
        "1. **Data Preprocessing:** Clean and preprocess the dataset, handling missing values and encoding categorical variables if necessary.\n",
        "2. **Feature Scaling:** Normalize or standardize the numerical features to ensure a consistent scale for the ANN.\n",
        "3. **Model Architecture:** Design the architecture of the ANN, including the number of layers, neurons, and activation functions.\n",
        "4. **Training:** Train the model using the preprocessed dataset and evaluate its performance on a validation set.\n",
        "5. **Hyperparameter Tuning:** Fine-tune the hyperparameters to optimize the model's performance.\n",
        "6. **Evaluation:** Assess the final model's performance on a test set to ensure its effectiveness in classifying mobile price ranges.\n",
        "\n",
        "By successfully developing an ANN model for mobile price classification, we aim to provide a valuable tool for consumers and industry professionals to make informed decisions in the competitive mobile phone market.\n"
      ],
      "metadata": {
        "id": "WNeSDppUd4UZ"
      }
    },
    {
      "cell_type": "markdown",
      "source": [
        "## Importing all necessary libraries"
      ],
      "metadata": {
        "id": "kQXe7Vd3F1FN"
      }
    },
    {
      "cell_type": "code",
      "execution_count": 1,
      "metadata": {
        "id": "bj33XWk6C35i"
      },
      "outputs": [],
      "source": [
        "import os\n",
        "import numpy as np\n",
        "import pandas as pd\n",
        "import seaborn as sns\n",
        "import matplotlib.pyplot as plt\n"
      ]
    },
    {
      "cell_type": "markdown",
      "source": [
        "## Downloading the data from the google drive link"
      ],
      "metadata": {
        "id": "IqXQkE07F474"
      }
    },
    {
      "cell_type": "code",
      "source": [
        "!gdown https://drive.google.com/uc?id=1NE8EhWK3r2Vy15lqglOB2ejIda-3pAXa\n",
        "!gdown https://drive.google.com/uc?id=1AkZx9UMfcAV9MnaeE4Bl9DUUekO0c-Kl"
      ],
      "metadata": {
        "colab": {
          "base_uri": "https://localhost:8080/"
        },
        "id": "HWjhw2v9FOF0",
        "outputId": "32caf232-8392-4b03-9f8e-d81ac8d80c54"
      },
      "execution_count": 2,
      "outputs": [
        {
          "output_type": "stream",
          "name": "stdout",
          "text": [
            "Downloading...\n",
            "From: https://drive.google.com/uc?id=1NE8EhWK3r2Vy15lqglOB2ejIda-3pAXa\n",
            "To: /content/train.csv\n",
            "100% 122k/122k [00:00<00:00, 126MB/s]\n",
            "Downloading...\n",
            "From: https://drive.google.com/uc?id=1AkZx9UMfcAV9MnaeE4Bl9DUUekO0c-Kl\n",
            "To: /content/test.csv\n",
            "100% 63.9k/63.9k [00:00<00:00, 157MB/s]\n"
          ]
        }
      ]
    },
    {
      "cell_type": "code",
      "source": [
        "train_df = pd.read_csv('train.csv')\n",
        "test_df = pd.read_csv('test.csv')\n",
        "print(train_df.shape)\n",
        "print(test_df.shape)"
      ],
      "metadata": {
        "colab": {
          "base_uri": "https://localhost:8080/"
        },
        "id": "diiSnml9FON_",
        "outputId": "7c4dcc39-56db-4fd6-d26a-4fd09b76c2d8"
      },
      "execution_count": 3,
      "outputs": [
        {
          "output_type": "stream",
          "name": "stdout",
          "text": [
            "(2000, 21)\n",
            "(1000, 21)\n"
          ]
        }
      ]
    },
    {
      "cell_type": "code",
      "source": [
        "train_df.head()"
      ],
      "metadata": {
        "colab": {
          "base_uri": "https://localhost:8080/",
          "height": 255
        },
        "id": "uKaLk0OaFOYQ",
        "outputId": "1a0dd116-262d-466f-e21e-9512175b4110"
      },
      "execution_count": 4,
      "outputs": [
        {
          "output_type": "execute_result",
          "data": {
            "text/plain": [
              "   battery_power  blue  clock_speed  dual_sim  fc  four_g  int_memory  m_dep  \\\n",
              "0            842     0          2.2         0   1       0           7    0.6   \n",
              "1           1021     1          0.5         1   0       1          53    0.7   \n",
              "2            563     1          0.5         1   2       1          41    0.9   \n",
              "3            615     1          2.5         0   0       0          10    0.8   \n",
              "4           1821     1          1.2         0  13       1          44    0.6   \n",
              "\n",
              "   mobile_wt  n_cores  ...  px_height  px_width   ram  sc_h  sc_w  talk_time  \\\n",
              "0        188        2  ...         20       756  2549     9     7         19   \n",
              "1        136        3  ...        905      1988  2631    17     3          7   \n",
              "2        145        5  ...       1263      1716  2603    11     2          9   \n",
              "3        131        6  ...       1216      1786  2769    16     8         11   \n",
              "4        141        2  ...       1208      1212  1411     8     2         15   \n",
              "\n",
              "   three_g  touch_screen  wifi  price_range  \n",
              "0        0             0     1            1  \n",
              "1        1             1     0            2  \n",
              "2        1             1     0            2  \n",
              "3        1             0     0            2  \n",
              "4        1             1     0            1  \n",
              "\n",
              "[5 rows x 21 columns]"
            ],
            "text/html": [
              "\n",
              "  <div id=\"df-681e9de8-7618-45d4-b3a2-a85856cec461\" class=\"colab-df-container\">\n",
              "    <div>\n",
              "<style scoped>\n",
              "    .dataframe tbody tr th:only-of-type {\n",
              "        vertical-align: middle;\n",
              "    }\n",
              "\n",
              "    .dataframe tbody tr th {\n",
              "        vertical-align: top;\n",
              "    }\n",
              "\n",
              "    .dataframe thead th {\n",
              "        text-align: right;\n",
              "    }\n",
              "</style>\n",
              "<table border=\"1\" class=\"dataframe\">\n",
              "  <thead>\n",
              "    <tr style=\"text-align: right;\">\n",
              "      <th></th>\n",
              "      <th>battery_power</th>\n",
              "      <th>blue</th>\n",
              "      <th>clock_speed</th>\n",
              "      <th>dual_sim</th>\n",
              "      <th>fc</th>\n",
              "      <th>four_g</th>\n",
              "      <th>int_memory</th>\n",
              "      <th>m_dep</th>\n",
              "      <th>mobile_wt</th>\n",
              "      <th>n_cores</th>\n",
              "      <th>...</th>\n",
              "      <th>px_height</th>\n",
              "      <th>px_width</th>\n",
              "      <th>ram</th>\n",
              "      <th>sc_h</th>\n",
              "      <th>sc_w</th>\n",
              "      <th>talk_time</th>\n",
              "      <th>three_g</th>\n",
              "      <th>touch_screen</th>\n",
              "      <th>wifi</th>\n",
              "      <th>price_range</th>\n",
              "    </tr>\n",
              "  </thead>\n",
              "  <tbody>\n",
              "    <tr>\n",
              "      <th>0</th>\n",
              "      <td>842</td>\n",
              "      <td>0</td>\n",
              "      <td>2.2</td>\n",
              "      <td>0</td>\n",
              "      <td>1</td>\n",
              "      <td>0</td>\n",
              "      <td>7</td>\n",
              "      <td>0.6</td>\n",
              "      <td>188</td>\n",
              "      <td>2</td>\n",
              "      <td>...</td>\n",
              "      <td>20</td>\n",
              "      <td>756</td>\n",
              "      <td>2549</td>\n",
              "      <td>9</td>\n",
              "      <td>7</td>\n",
              "      <td>19</td>\n",
              "      <td>0</td>\n",
              "      <td>0</td>\n",
              "      <td>1</td>\n",
              "      <td>1</td>\n",
              "    </tr>\n",
              "    <tr>\n",
              "      <th>1</th>\n",
              "      <td>1021</td>\n",
              "      <td>1</td>\n",
              "      <td>0.5</td>\n",
              "      <td>1</td>\n",
              "      <td>0</td>\n",
              "      <td>1</td>\n",
              "      <td>53</td>\n",
              "      <td>0.7</td>\n",
              "      <td>136</td>\n",
              "      <td>3</td>\n",
              "      <td>...</td>\n",
              "      <td>905</td>\n",
              "      <td>1988</td>\n",
              "      <td>2631</td>\n",
              "      <td>17</td>\n",
              "      <td>3</td>\n",
              "      <td>7</td>\n",
              "      <td>1</td>\n",
              "      <td>1</td>\n",
              "      <td>0</td>\n",
              "      <td>2</td>\n",
              "    </tr>\n",
              "    <tr>\n",
              "      <th>2</th>\n",
              "      <td>563</td>\n",
              "      <td>1</td>\n",
              "      <td>0.5</td>\n",
              "      <td>1</td>\n",
              "      <td>2</td>\n",
              "      <td>1</td>\n",
              "      <td>41</td>\n",
              "      <td>0.9</td>\n",
              "      <td>145</td>\n",
              "      <td>5</td>\n",
              "      <td>...</td>\n",
              "      <td>1263</td>\n",
              "      <td>1716</td>\n",
              "      <td>2603</td>\n",
              "      <td>11</td>\n",
              "      <td>2</td>\n",
              "      <td>9</td>\n",
              "      <td>1</td>\n",
              "      <td>1</td>\n",
              "      <td>0</td>\n",
              "      <td>2</td>\n",
              "    </tr>\n",
              "    <tr>\n",
              "      <th>3</th>\n",
              "      <td>615</td>\n",
              "      <td>1</td>\n",
              "      <td>2.5</td>\n",
              "      <td>0</td>\n",
              "      <td>0</td>\n",
              "      <td>0</td>\n",
              "      <td>10</td>\n",
              "      <td>0.8</td>\n",
              "      <td>131</td>\n",
              "      <td>6</td>\n",
              "      <td>...</td>\n",
              "      <td>1216</td>\n",
              "      <td>1786</td>\n",
              "      <td>2769</td>\n",
              "      <td>16</td>\n",
              "      <td>8</td>\n",
              "      <td>11</td>\n",
              "      <td>1</td>\n",
              "      <td>0</td>\n",
              "      <td>0</td>\n",
              "      <td>2</td>\n",
              "    </tr>\n",
              "    <tr>\n",
              "      <th>4</th>\n",
              "      <td>1821</td>\n",
              "      <td>1</td>\n",
              "      <td>1.2</td>\n",
              "      <td>0</td>\n",
              "      <td>13</td>\n",
              "      <td>1</td>\n",
              "      <td>44</td>\n",
              "      <td>0.6</td>\n",
              "      <td>141</td>\n",
              "      <td>2</td>\n",
              "      <td>...</td>\n",
              "      <td>1208</td>\n",
              "      <td>1212</td>\n",
              "      <td>1411</td>\n",
              "      <td>8</td>\n",
              "      <td>2</td>\n",
              "      <td>15</td>\n",
              "      <td>1</td>\n",
              "      <td>1</td>\n",
              "      <td>0</td>\n",
              "      <td>1</td>\n",
              "    </tr>\n",
              "  </tbody>\n",
              "</table>\n",
              "<p>5 rows × 21 columns</p>\n",
              "</div>\n",
              "    <div class=\"colab-df-buttons\">\n",
              "\n",
              "  <div class=\"colab-df-container\">\n",
              "    <button class=\"colab-df-convert\" onclick=\"convertToInteractive('df-681e9de8-7618-45d4-b3a2-a85856cec461')\"\n",
              "            title=\"Convert this dataframe to an interactive table.\"\n",
              "            style=\"display:none;\">\n",
              "\n",
              "  <svg xmlns=\"http://www.w3.org/2000/svg\" height=\"24px\" viewBox=\"0 -960 960 960\">\n",
              "    <path d=\"M120-120v-720h720v720H120Zm60-500h600v-160H180v160Zm220 220h160v-160H400v160Zm0 220h160v-160H400v160ZM180-400h160v-160H180v160Zm440 0h160v-160H620v160ZM180-180h160v-160H180v160Zm440 0h160v-160H620v160Z\"/>\n",
              "  </svg>\n",
              "    </button>\n",
              "\n",
              "  <style>\n",
              "    .colab-df-container {\n",
              "      display:flex;\n",
              "      gap: 12px;\n",
              "    }\n",
              "\n",
              "    .colab-df-convert {\n",
              "      background-color: #E8F0FE;\n",
              "      border: none;\n",
              "      border-radius: 50%;\n",
              "      cursor: pointer;\n",
              "      display: none;\n",
              "      fill: #1967D2;\n",
              "      height: 32px;\n",
              "      padding: 0 0 0 0;\n",
              "      width: 32px;\n",
              "    }\n",
              "\n",
              "    .colab-df-convert:hover {\n",
              "      background-color: #E2EBFA;\n",
              "      box-shadow: 0px 1px 2px rgba(60, 64, 67, 0.3), 0px 1px 3px 1px rgba(60, 64, 67, 0.15);\n",
              "      fill: #174EA6;\n",
              "    }\n",
              "\n",
              "    .colab-df-buttons div {\n",
              "      margin-bottom: 4px;\n",
              "    }\n",
              "\n",
              "    [theme=dark] .colab-df-convert {\n",
              "      background-color: #3B4455;\n",
              "      fill: #D2E3FC;\n",
              "    }\n",
              "\n",
              "    [theme=dark] .colab-df-convert:hover {\n",
              "      background-color: #434B5C;\n",
              "      box-shadow: 0px 1px 3px 1px rgba(0, 0, 0, 0.15);\n",
              "      filter: drop-shadow(0px 1px 2px rgba(0, 0, 0, 0.3));\n",
              "      fill: #FFFFFF;\n",
              "    }\n",
              "  </style>\n",
              "\n",
              "    <script>\n",
              "      const buttonEl =\n",
              "        document.querySelector('#df-681e9de8-7618-45d4-b3a2-a85856cec461 button.colab-df-convert');\n",
              "      buttonEl.style.display =\n",
              "        google.colab.kernel.accessAllowed ? 'block' : 'none';\n",
              "\n",
              "      async function convertToInteractive(key) {\n",
              "        const element = document.querySelector('#df-681e9de8-7618-45d4-b3a2-a85856cec461');\n",
              "        const dataTable =\n",
              "          await google.colab.kernel.invokeFunction('convertToInteractive',\n",
              "                                                    [key], {});\n",
              "        if (!dataTable) return;\n",
              "\n",
              "        const docLinkHtml = 'Like what you see? Visit the ' +\n",
              "          '<a target=\"_blank\" href=https://colab.research.google.com/notebooks/data_table.ipynb>data table notebook</a>'\n",
              "          + ' to learn more about interactive tables.';\n",
              "        element.innerHTML = '';\n",
              "        dataTable['output_type'] = 'display_data';\n",
              "        await google.colab.output.renderOutput(dataTable, element);\n",
              "        const docLink = document.createElement('div');\n",
              "        docLink.innerHTML = docLinkHtml;\n",
              "        element.appendChild(docLink);\n",
              "      }\n",
              "    </script>\n",
              "  </div>\n",
              "\n",
              "\n",
              "<div id=\"df-84dad6bf-9c95-48d5-a3ca-723585f68007\">\n",
              "  <button class=\"colab-df-quickchart\" onclick=\"quickchart('df-84dad6bf-9c95-48d5-a3ca-723585f68007')\"\n",
              "            title=\"Suggest charts\"\n",
              "            style=\"display:none;\">\n",
              "\n",
              "<svg xmlns=\"http://www.w3.org/2000/svg\" height=\"24px\"viewBox=\"0 0 24 24\"\n",
              "     width=\"24px\">\n",
              "    <g>\n",
              "        <path d=\"M19 3H5c-1.1 0-2 .9-2 2v14c0 1.1.9 2 2 2h14c1.1 0 2-.9 2-2V5c0-1.1-.9-2-2-2zM9 17H7v-7h2v7zm4 0h-2V7h2v10zm4 0h-2v-4h2v4z\"/>\n",
              "    </g>\n",
              "</svg>\n",
              "  </button>\n",
              "\n",
              "<style>\n",
              "  .colab-df-quickchart {\n",
              "      --bg-color: #E8F0FE;\n",
              "      --fill-color: #1967D2;\n",
              "      --hover-bg-color: #E2EBFA;\n",
              "      --hover-fill-color: #174EA6;\n",
              "      --disabled-fill-color: #AAA;\n",
              "      --disabled-bg-color: #DDD;\n",
              "  }\n",
              "\n",
              "  [theme=dark] .colab-df-quickchart {\n",
              "      --bg-color: #3B4455;\n",
              "      --fill-color: #D2E3FC;\n",
              "      --hover-bg-color: #434B5C;\n",
              "      --hover-fill-color: #FFFFFF;\n",
              "      --disabled-bg-color: #3B4455;\n",
              "      --disabled-fill-color: #666;\n",
              "  }\n",
              "\n",
              "  .colab-df-quickchart {\n",
              "    background-color: var(--bg-color);\n",
              "    border: none;\n",
              "    border-radius: 50%;\n",
              "    cursor: pointer;\n",
              "    display: none;\n",
              "    fill: var(--fill-color);\n",
              "    height: 32px;\n",
              "    padding: 0;\n",
              "    width: 32px;\n",
              "  }\n",
              "\n",
              "  .colab-df-quickchart:hover {\n",
              "    background-color: var(--hover-bg-color);\n",
              "    box-shadow: 0 1px 2px rgba(60, 64, 67, 0.3), 0 1px 3px 1px rgba(60, 64, 67, 0.15);\n",
              "    fill: var(--button-hover-fill-color);\n",
              "  }\n",
              "\n",
              "  .colab-df-quickchart-complete:disabled,\n",
              "  .colab-df-quickchart-complete:disabled:hover {\n",
              "    background-color: var(--disabled-bg-color);\n",
              "    fill: var(--disabled-fill-color);\n",
              "    box-shadow: none;\n",
              "  }\n",
              "\n",
              "  .colab-df-spinner {\n",
              "    border: 2px solid var(--fill-color);\n",
              "    border-color: transparent;\n",
              "    border-bottom-color: var(--fill-color);\n",
              "    animation:\n",
              "      spin 1s steps(1) infinite;\n",
              "  }\n",
              "\n",
              "  @keyframes spin {\n",
              "    0% {\n",
              "      border-color: transparent;\n",
              "      border-bottom-color: var(--fill-color);\n",
              "      border-left-color: var(--fill-color);\n",
              "    }\n",
              "    20% {\n",
              "      border-color: transparent;\n",
              "      border-left-color: var(--fill-color);\n",
              "      border-top-color: var(--fill-color);\n",
              "    }\n",
              "    30% {\n",
              "      border-color: transparent;\n",
              "      border-left-color: var(--fill-color);\n",
              "      border-top-color: var(--fill-color);\n",
              "      border-right-color: var(--fill-color);\n",
              "    }\n",
              "    40% {\n",
              "      border-color: transparent;\n",
              "      border-right-color: var(--fill-color);\n",
              "      border-top-color: var(--fill-color);\n",
              "    }\n",
              "    60% {\n",
              "      border-color: transparent;\n",
              "      border-right-color: var(--fill-color);\n",
              "    }\n",
              "    80% {\n",
              "      border-color: transparent;\n",
              "      border-right-color: var(--fill-color);\n",
              "      border-bottom-color: var(--fill-color);\n",
              "    }\n",
              "    90% {\n",
              "      border-color: transparent;\n",
              "      border-bottom-color: var(--fill-color);\n",
              "    }\n",
              "  }\n",
              "</style>\n",
              "\n",
              "  <script>\n",
              "    async function quickchart(key) {\n",
              "      const quickchartButtonEl =\n",
              "        document.querySelector('#' + key + ' button');\n",
              "      quickchartButtonEl.disabled = true;  // To prevent multiple clicks.\n",
              "      quickchartButtonEl.classList.add('colab-df-spinner');\n",
              "      try {\n",
              "        const charts = await google.colab.kernel.invokeFunction(\n",
              "            'suggestCharts', [key], {});\n",
              "      } catch (error) {\n",
              "        console.error('Error during call to suggestCharts:', error);\n",
              "      }\n",
              "      quickchartButtonEl.classList.remove('colab-df-spinner');\n",
              "      quickchartButtonEl.classList.add('colab-df-quickchart-complete');\n",
              "    }\n",
              "    (() => {\n",
              "      let quickchartButtonEl =\n",
              "        document.querySelector('#df-84dad6bf-9c95-48d5-a3ca-723585f68007 button');\n",
              "      quickchartButtonEl.style.display =\n",
              "        google.colab.kernel.accessAllowed ? 'block' : 'none';\n",
              "    })();\n",
              "  </script>\n",
              "</div>\n",
              "    </div>\n",
              "  </div>\n"
            ]
          },
          "metadata": {},
          "execution_count": 4
        }
      ]
    },
    {
      "cell_type": "code",
      "source": [
        "correlation_matrix = train_df.corr()\n",
        "correlation_with_target = correlation_matrix['price_range'].sort_values(ascending=False)\n",
        "n = 11\n",
        "top_n_correlated_features = correlation_with_target.head(n)\n",
        "print(\"Top\", n, \"correlated features with the target variable:\")\n",
        "print(top_n_correlated_features)\n",
        "\n"
      ],
      "metadata": {
        "colab": {
          "base_uri": "https://localhost:8080/"
        },
        "id": "6Mq5f4ojGO0r",
        "outputId": "6618e81b-8f30-40cf-836c-5823be08813c"
      },
      "execution_count": 5,
      "outputs": [
        {
          "output_type": "stream",
          "name": "stdout",
          "text": [
            "Top 11 correlated features with the target variable:\n",
            "price_range      1.000000\n",
            "ram              0.917046\n",
            "battery_power    0.200723\n",
            "px_width         0.165818\n",
            "px_height        0.148858\n",
            "int_memory       0.044435\n",
            "sc_w             0.038711\n",
            "pc               0.033599\n",
            "three_g          0.023611\n",
            "sc_h             0.022986\n",
            "fc               0.021998\n",
            "Name: price_range, dtype: float64\n"
          ]
        }
      ]
    },
    {
      "cell_type": "code",
      "source": [
        "top10_features = list(top_n_correlated_features.index)"
      ],
      "metadata": {
        "id": "G7xE1SFIDaKV"
      },
      "execution_count": 6,
      "outputs": []
    },
    {
      "cell_type": "code",
      "source": [
        "from keras.models import Sequential\n",
        "from keras.layers import Dense, Input\n",
        "from keras.utils import to_categorical\n"
      ],
      "metadata": {
        "id": "RvvYtHqzJDp7"
      },
      "execution_count": 7,
      "outputs": []
    },
    {
      "cell_type": "code",
      "source": [
        "model = Sequential()\n",
        "model.add(Dense(128, activation = 'tanh', input_shape=(10,)))\n",
        "model.add(Dense(64, activation = 'tanh'))\n",
        "model.add(Dense(32, activation = \"tanh\"))\n",
        "model.add(Dense(4, activation = \"softmax\"))\n",
        "model.summary()"
      ],
      "metadata": {
        "colab": {
          "base_uri": "https://localhost:8080/"
        },
        "id": "ArK_iUgKJCY0",
        "outputId": "b55a7a4d-4c06-4a55-a6cc-06b44f443b0e"
      },
      "execution_count": 8,
      "outputs": [
        {
          "output_type": "stream",
          "name": "stdout",
          "text": [
            "Model: \"sequential\"\n",
            "_________________________________________________________________\n",
            " Layer (type)                Output Shape              Param #   \n",
            "=================================================================\n",
            " dense (Dense)               (None, 128)               1408      \n",
            "                                                                 \n",
            " dense_1 (Dense)             (None, 64)                8256      \n",
            "                                                                 \n",
            " dense_2 (Dense)             (None, 32)                2080      \n",
            "                                                                 \n",
            " dense_3 (Dense)             (None, 4)                 132       \n",
            "                                                                 \n",
            "=================================================================\n",
            "Total params: 11876 (46.39 KB)\n",
            "Trainable params: 11876 (46.39 KB)\n",
            "Non-trainable params: 0 (0.00 Byte)\n",
            "_________________________________________________________________\n"
          ]
        }
      ]
    },
    {
      "cell_type": "code",
      "source": [
        "model.compile(loss='categorical_crossentropy',\n",
        "              optimizer='adam',\n",
        "              metrics=['accuracy'])\n"
      ],
      "metadata": {
        "id": "usK2G0JTKF2g"
      },
      "execution_count": 9,
      "outputs": []
    },
    {
      "cell_type": "code",
      "source": [
        "data = train_df[top10_features[1:]]\n",
        "labels = np.array(train_df[top10_features[0]])\n",
        "\n",
        "print(data.shape)\n",
        "print(labels.shape)"
      ],
      "metadata": {
        "colab": {
          "base_uri": "https://localhost:8080/"
        },
        "id": "BECPbCSXDXpP",
        "outputId": "8b522c2b-fe86-43e6-a8de-6637111ee631"
      },
      "execution_count": 10,
      "outputs": [
        {
          "output_type": "stream",
          "name": "stdout",
          "text": [
            "(2000, 10)\n",
            "(2000,)\n"
          ]
        }
      ]
    },
    {
      "cell_type": "code",
      "source": [
        "one_hot_labels = to_categorical(labels, num_classes=4)"
      ],
      "metadata": {
        "id": "LGVAjHApHwTb"
      },
      "execution_count": 11,
      "outputs": []
    },
    {
      "cell_type": "code",
      "source": [
        "from sklearn.model_selection import train_test_split\n",
        "\n",
        "X_train, X_test, y_train, y_test = train_test_split(data, one_hot_labels, test_size=0.2,\n",
        "                                                    stratify=labels, random_state=42)\n",
        "print(X_train.shape)\n",
        "print(X_test.shape)\n",
        "print(y_train.shape)\n",
        "print(y_test.shape)"
      ],
      "metadata": {
        "colab": {
          "base_uri": "https://localhost:8080/"
        },
        "id": "yHi8A0KYERw6",
        "outputId": "900e5225-f758-48f2-d7f3-29af4c8a415a"
      },
      "execution_count": 12,
      "outputs": [
        {
          "output_type": "stream",
          "name": "stdout",
          "text": [
            "(1600, 10)\n",
            "(400, 10)\n",
            "(1600, 4)\n",
            "(400, 4)\n"
          ]
        }
      ]
    },
    {
      "cell_type": "code",
      "source": [
        "from sklearn.preprocessing import MinMaxScaler"
      ],
      "metadata": {
        "id": "oCRiW6fpDGBS"
      },
      "execution_count": 13,
      "outputs": []
    },
    {
      "cell_type": "code",
      "source": [
        "scaler = MinMaxScaler()"
      ],
      "metadata": {
        "id": "LNrKPLgfFALP"
      },
      "execution_count": 14,
      "outputs": []
    },
    {
      "cell_type": "code",
      "source": [
        "X_train_scaled =  scaler.fit_transform(X_train)\n",
        "X_test_scaled = scaler.transform(X_test)\n",
        "\n",
        "print(X_train_scaled.shape)\n",
        "print(X_test_scaled.shape)"
      ],
      "metadata": {
        "colab": {
          "base_uri": "https://localhost:8080/"
        },
        "id": "fOpeO5SME7zw",
        "outputId": "5eafe667-a268-424a-e0fb-a2920badc385"
      },
      "execution_count": 15,
      "outputs": [
        {
          "output_type": "stream",
          "name": "stdout",
          "text": [
            "(1600, 10)\n",
            "(400, 10)\n"
          ]
        }
      ]
    },
    {
      "cell_type": "code",
      "source": [
        "history = model.fit(X_train_scaled, y_train, epochs=50, batch_size=32, validation_data = (X_test_scaled, y_test))"
      ],
      "metadata": {
        "colab": {
          "base_uri": "https://localhost:8080/"
        },
        "id": "aSG-_SVWFJdY",
        "outputId": "a614cbef-d329-4f4e-83e0-9e12e03ce243"
      },
      "execution_count": 16,
      "outputs": [
        {
          "output_type": "stream",
          "name": "stdout",
          "text": [
            "Epoch 1/50\n",
            "50/50 [==============================] - 2s 8ms/step - loss: 1.2764 - accuracy: 0.4194 - val_loss: 1.0662 - val_accuracy: 0.5875\n",
            "Epoch 2/50\n",
            "50/50 [==============================] - 0s 3ms/step - loss: 0.9100 - accuracy: 0.6144 - val_loss: 0.7619 - val_accuracy: 0.7275\n",
            "Epoch 3/50\n",
            "50/50 [==============================] - 0s 5ms/step - loss: 0.6568 - accuracy: 0.7519 - val_loss: 0.5208 - val_accuracy: 0.8400\n",
            "Epoch 4/50\n",
            "50/50 [==============================] - 0s 3ms/step - loss: 0.4723 - accuracy: 0.8269 - val_loss: 0.3585 - val_accuracy: 0.9025\n",
            "Epoch 5/50\n",
            "50/50 [==============================] - 0s 3ms/step - loss: 0.3450 - accuracy: 0.8850 - val_loss: 0.2545 - val_accuracy: 0.9425\n",
            "Epoch 6/50\n",
            "50/50 [==============================] - 0s 3ms/step - loss: 0.2701 - accuracy: 0.9144 - val_loss: 0.2100 - val_accuracy: 0.9400\n",
            "Epoch 7/50\n",
            "50/50 [==============================] - 0s 3ms/step - loss: 0.2331 - accuracy: 0.9219 - val_loss: 0.1789 - val_accuracy: 0.9325\n",
            "Epoch 8/50\n",
            "50/50 [==============================] - 0s 3ms/step - loss: 0.2094 - accuracy: 0.9181 - val_loss: 0.1565 - val_accuracy: 0.9550\n",
            "Epoch 9/50\n",
            "50/50 [==============================] - 0s 3ms/step - loss: 0.1858 - accuracy: 0.9362 - val_loss: 0.1396 - val_accuracy: 0.9725\n",
            "Epoch 10/50\n",
            "50/50 [==============================] - 0s 4ms/step - loss: 0.1769 - accuracy: 0.9287 - val_loss: 0.1197 - val_accuracy: 0.9725\n",
            "Epoch 11/50\n",
            "50/50 [==============================] - 0s 4ms/step - loss: 0.1565 - accuracy: 0.9438 - val_loss: 0.1817 - val_accuracy: 0.9100\n",
            "Epoch 12/50\n",
            "50/50 [==============================] - 0s 3ms/step - loss: 0.1602 - accuracy: 0.9406 - val_loss: 0.1049 - val_accuracy: 0.9700\n",
            "Epoch 13/50\n",
            "50/50 [==============================] - 0s 4ms/step - loss: 0.1387 - accuracy: 0.9475 - val_loss: 0.1168 - val_accuracy: 0.9650\n",
            "Epoch 14/50\n",
            "50/50 [==============================] - 0s 3ms/step - loss: 0.1393 - accuracy: 0.9375 - val_loss: 0.0960 - val_accuracy: 0.9675\n",
            "Epoch 15/50\n",
            "50/50 [==============================] - 0s 3ms/step - loss: 0.1334 - accuracy: 0.9438 - val_loss: 0.1044 - val_accuracy: 0.9525\n",
            "Epoch 16/50\n",
            "50/50 [==============================] - 0s 3ms/step - loss: 0.1557 - accuracy: 0.9369 - val_loss: 0.0989 - val_accuracy: 0.9675\n",
            "Epoch 17/50\n",
            "50/50 [==============================] - 0s 5ms/step - loss: 0.1259 - accuracy: 0.9456 - val_loss: 0.1283 - val_accuracy: 0.9525\n",
            "Epoch 18/50\n",
            "50/50 [==============================] - 0s 3ms/step - loss: 0.1239 - accuracy: 0.9488 - val_loss: 0.0960 - val_accuracy: 0.9650\n",
            "Epoch 19/50\n",
            "50/50 [==============================] - 0s 4ms/step - loss: 0.1298 - accuracy: 0.9444 - val_loss: 0.1049 - val_accuracy: 0.9625\n",
            "Epoch 20/50\n",
            "50/50 [==============================] - 0s 4ms/step - loss: 0.1350 - accuracy: 0.9356 - val_loss: 0.0917 - val_accuracy: 0.9700\n",
            "Epoch 21/50\n",
            "50/50 [==============================] - 0s 4ms/step - loss: 0.1354 - accuracy: 0.9419 - val_loss: 0.0981 - val_accuracy: 0.9525\n",
            "Epoch 22/50\n",
            "50/50 [==============================] - 0s 4ms/step - loss: 0.1517 - accuracy: 0.9312 - val_loss: 0.1338 - val_accuracy: 0.9400\n",
            "Epoch 23/50\n",
            "50/50 [==============================] - 0s 4ms/step - loss: 0.1405 - accuracy: 0.9438 - val_loss: 0.1189 - val_accuracy: 0.9550\n",
            "Epoch 24/50\n",
            "50/50 [==============================] - 0s 4ms/step - loss: 0.1207 - accuracy: 0.9488 - val_loss: 0.1133 - val_accuracy: 0.9400\n",
            "Epoch 25/50\n",
            "50/50 [==============================] - 0s 3ms/step - loss: 0.1267 - accuracy: 0.9456 - val_loss: 0.1081 - val_accuracy: 0.9600\n",
            "Epoch 26/50\n",
            "50/50 [==============================] - 0s 3ms/step - loss: 0.1121 - accuracy: 0.9550 - val_loss: 0.0864 - val_accuracy: 0.9600\n",
            "Epoch 27/50\n",
            "50/50 [==============================] - 0s 3ms/step - loss: 0.1335 - accuracy: 0.9400 - val_loss: 0.0918 - val_accuracy: 0.9675\n",
            "Epoch 28/50\n",
            "50/50 [==============================] - 0s 3ms/step - loss: 0.1101 - accuracy: 0.9544 - val_loss: 0.1181 - val_accuracy: 0.9550\n",
            "Epoch 29/50\n",
            "50/50 [==============================] - 0s 4ms/step - loss: 0.1289 - accuracy: 0.9469 - val_loss: 0.1052 - val_accuracy: 0.9650\n",
            "Epoch 30/50\n",
            "50/50 [==============================] - 0s 4ms/step - loss: 0.1271 - accuracy: 0.9419 - val_loss: 0.1068 - val_accuracy: 0.9650\n",
            "Epoch 31/50\n",
            "50/50 [==============================] - 0s 3ms/step - loss: 0.1250 - accuracy: 0.9438 - val_loss: 0.0885 - val_accuracy: 0.9650\n",
            "Epoch 32/50\n",
            "50/50 [==============================] - 0s 3ms/step - loss: 0.1252 - accuracy: 0.9431 - val_loss: 0.0909 - val_accuracy: 0.9650\n",
            "Epoch 33/50\n",
            "50/50 [==============================] - 0s 4ms/step - loss: 0.1167 - accuracy: 0.9450 - val_loss: 0.0954 - val_accuracy: 0.9550\n",
            "Epoch 34/50\n",
            "50/50 [==============================] - 0s 4ms/step - loss: 0.1114 - accuracy: 0.9500 - val_loss: 0.0957 - val_accuracy: 0.9700\n",
            "Epoch 35/50\n",
            "50/50 [==============================] - 0s 3ms/step - loss: 0.1097 - accuracy: 0.9544 - val_loss: 0.1019 - val_accuracy: 0.9600\n",
            "Epoch 36/50\n",
            "50/50 [==============================] - 0s 4ms/step - loss: 0.1277 - accuracy: 0.9456 - val_loss: 0.0945 - val_accuracy: 0.9650\n",
            "Epoch 37/50\n",
            "50/50 [==============================] - 0s 5ms/step - loss: 0.1136 - accuracy: 0.9494 - val_loss: 0.0950 - val_accuracy: 0.9625\n",
            "Epoch 38/50\n",
            "50/50 [==============================] - 0s 4ms/step - loss: 0.1180 - accuracy: 0.9500 - val_loss: 0.1387 - val_accuracy: 0.9250\n",
            "Epoch 39/50\n",
            "50/50 [==============================] - 0s 5ms/step - loss: 0.1291 - accuracy: 0.9469 - val_loss: 0.0935 - val_accuracy: 0.9675\n",
            "Epoch 40/50\n",
            "50/50 [==============================] - 0s 3ms/step - loss: 0.1086 - accuracy: 0.9556 - val_loss: 0.0924 - val_accuracy: 0.9700\n",
            "Epoch 41/50\n",
            "50/50 [==============================] - 0s 4ms/step - loss: 0.1225 - accuracy: 0.9400 - val_loss: 0.0835 - val_accuracy: 0.9700\n",
            "Epoch 42/50\n",
            "50/50 [==============================] - 0s 3ms/step - loss: 0.1092 - accuracy: 0.9550 - val_loss: 0.0755 - val_accuracy: 0.9675\n",
            "Epoch 43/50\n",
            "50/50 [==============================] - 0s 4ms/step - loss: 0.1144 - accuracy: 0.9494 - val_loss: 0.0772 - val_accuracy: 0.9700\n",
            "Epoch 44/50\n",
            "50/50 [==============================] - 0s 3ms/step - loss: 0.1015 - accuracy: 0.9563 - val_loss: 0.0771 - val_accuracy: 0.9675\n",
            "Epoch 45/50\n",
            "50/50 [==============================] - 0s 4ms/step - loss: 0.1354 - accuracy: 0.9413 - val_loss: 0.1003 - val_accuracy: 0.9600\n",
            "Epoch 46/50\n",
            "50/50 [==============================] - 0s 4ms/step - loss: 0.1093 - accuracy: 0.9488 - val_loss: 0.1197 - val_accuracy: 0.9550\n",
            "Epoch 47/50\n",
            "50/50 [==============================] - 0s 3ms/step - loss: 0.1049 - accuracy: 0.9556 - val_loss: 0.0782 - val_accuracy: 0.9700\n",
            "Epoch 48/50\n",
            "50/50 [==============================] - 0s 3ms/step - loss: 0.1183 - accuracy: 0.9506 - val_loss: 0.1161 - val_accuracy: 0.9600\n",
            "Epoch 49/50\n",
            "50/50 [==============================] - 0s 4ms/step - loss: 0.1190 - accuracy: 0.9456 - val_loss: 0.0889 - val_accuracy: 0.9700\n",
            "Epoch 50/50\n",
            "50/50 [==============================] - 0s 7ms/step - loss: 0.1078 - accuracy: 0.9513 - val_loss: 0.0818 - val_accuracy: 0.9675\n"
          ]
        }
      ]
    },
    {
      "cell_type": "code",
      "source": [
        "plt.figure(figsize=(12, 8))\n",
        "plt.title(\"Training Vs Testing Accuracy\")\n",
        "# Plot training & validation loss values\n",
        "plt.plot(history.history['accuracy'])\n",
        "plt.plot(history.history['val_accuracy'])\n",
        "plt.title('Model Accuracy')\n",
        "plt.ylabel('Accuracy')\n",
        "plt.xlabel('Epoch')\n",
        "plt.legend(['Train', 'Validation'], loc='upper left')\n",
        "plt.show()\n"
      ],
      "metadata": {
        "colab": {
          "base_uri": "https://localhost:8080/",
          "height": 718
        },
        "id": "MizdghEjLTQ8",
        "outputId": "95c13ef3-273e-438b-8d92-324314758705"
      },
      "execution_count": 17,
      "outputs": [
        {
          "output_type": "display_data",
          "data": {
            "text/plain": [
              "<Figure size 1200x800 with 1 Axes>"
            ],
            "image/png": "[encoded data removed]"
          },
          "metadata": {}
        }
      ]
    },
    {
      "cell_type": "code",
      "source": [
        "loss, accuracy = model.evaluate(X_test_scaled, y_test)\n",
        "print(\"Test accuracy:\", accuracy)\n"
      ],
      "metadata": {
        "colab": {
          "base_uri": "https://localhost:8080/"
        },
        "id": "2ZTucCjqLTU2",
        "outputId": "ce258a74-51f8-42bc-b62c-537e1750450e"
      },
      "execution_count": 18,
      "outputs": [
        {
          "output_type": "stream",
          "name": "stdout",
          "text": [
            "13/13 [==============================] - 0s 2ms/step - loss: 0.0818 - accuracy: 0.9675\n",
            "Test accuracy: 0.9674999713897705\n"
          ]
        }
      ]
    },
    {
      "cell_type": "markdown",
      "source": [
        "## Making Predictions in the test data"
      ],
      "metadata": {
        "id": "-Syzco2hKXvO"
      }
    },
    {
      "cell_type": "code",
      "source": [
        "# predictions = model.predict(X_test_scaled)\n",
        "# predictions = (np.argmax(pred) for pred in predictions)\n",
        "# print(\"Predictions for new data:\", predictions)"
      ],
      "metadata": {
        "id": "E9MPbKrcGvC-"
      },
      "execution_count": 19,
      "outputs": []
    },
    {
      "cell_type": "code",
      "source": [],
      "metadata": {
        "id": "EoVYaZkmKqb0"
      },
      "execution_count": null,
      "outputs": []
    }
  ]
}